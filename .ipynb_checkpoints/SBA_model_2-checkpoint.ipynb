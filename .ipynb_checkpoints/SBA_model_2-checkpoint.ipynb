{
 "cells": [
  {
   "cell_type": "markdown",
   "metadata": {},
   "source": [
    "# Imitatoin Learning 모델 2\n",
    "---\n",
    "## Description\n",
    "> Behavioral Cloning 방식을 넘어 Data Aggregation 방식 도입.\n",
    "\n",
    "* 실제 로봇과 상호작용 필요\n",
    "* model v_1 과 다른 구조 필요\n",
    "* \n",
    "\n",
    "## todo\n",
    "* [ ] OpenAI gym like style\n",
    "* [ ] 학습데이터 로컬에 파일로 save & load\n",
    "* [ ] 학습에 사용된 원본(color) 데이터도 따로 저장하기\n",
    "* [ ] 터틀봇과 데이터 송수신하기 - python 라이브러리 형태로 ros topic 에 접근이 가능한가? 되면 바로 python 레벨에서 통신가능\n",
    "* [ ] jupyter 버전 / terminal 스크립트 버전 둘 다 돌아가게 만들기\n",
    "\n",
    "## Issue\n",
    "* jupyter 에서는 non-blocking keyboard 입력이 어려운 듯\n",
    "* 그래서 그냥 스크립트로 터미널에서 돌려야 할 듯\n",
    "* 그리고 linux 에서는 termios 모듈을 써야하고 windows 에서는 msvcrt 모듈을 써야함!!"
   ]
  },
  {
   "cell_type": "code",
   "execution_count": 1,
   "metadata": {},
   "outputs": [
    {
     "name": "stdout",
     "output_type": "stream",
     "text": [
      "> 당신의 os 는 Windows 입니다.\n"
     ]
    }
   ],
   "source": [
    "import platform\n",
    "os_cur = platform.system() # 현재 os 시스템 정보 # 윈도우 or 리눅스\n",
    "print('> 당신의 os 는 {} 입니다.'.format(os_cur))"
   ]
  },
  {
   "cell_type": "code",
   "execution_count": 9,
   "metadata": {},
   "outputs": [],
   "source": [
    "class Env:\n",
    "    def __init__(self, database, model, sess):\n",
    "        self.database = database # 외부에 학습데이터 저장해놓기. 데이터는 소중하니까\n",
    "        self.model = model # CNN 모델\n",
    "        self.sess = sess # session 객체\n",
    "    \n",
    "    def reset(self):\n",
    "        # 터틀봇으로부터 카메라 데이터 및 라이다 데이터를 수신하여 반환하는 메서드\n",
    "        # 동시에 초기화\n",
    "        # ** 통신필요 **\n",
    "        return observation\n",
    "    \n",
    "    def pause(self):\n",
    "        # 주행을 멈춘다.\n",
    "        # for learning or exit\n",
    "        pass\n",
    "    \n",
    "    def recv_data(self, image, ridar=None):\n",
    "        # 터틀봇으로부터 카메라 데이터 및 라이다 데이터를 수신하여 반환하는 메서드\n",
    "        # ** 통신필요 **\n",
    "        observation = image\n",
    "        return observation\n",
    "    \n",
    "    def recv_command_fromhuman(self):\n",
    "        # human 이 수동으로 조종한 데이터를 수신하여 반환하는 메서드\n",
    "        # 단순히 기능으로 판단\n",
    "        \n",
    "        key = getkey() # 키보드 입력 없을 때 return 이 None 인지???\n",
    "        if(key): # key - val mapping, require nonzero\n",
    "            print('- [debug] human 이 조종함. {}'.format(key))\n",
    "            val = key\n",
    "            return val\n",
    "        else:\n",
    "            return False\n",
    "    \n",
    "    def send_data(self, policy):\n",
    "        # 터틀봇에 policy 즉, action command 를 보내는 메서드\n",
    "        # ** 통신필요 **\n",
    "        try:\n",
    "            pass\n",
    "        except:\n",
    "            # 에러 메시지 띄우고 프로그램 종료\n",
    "            pass\n",
    "        \n",
    "        return action        \n",
    "    \n",
    "    def get_dataset(self, observation, label):\n",
    "        # 외부 데이터베이스에 현재상태에 대한 데이터를 제공하기위한 메서드\n",
    "        return observation, label\n",
    "    \n",
    "    def step(self, processed):\n",
    "        # 메인 루프.\n",
    "        # 영상획득 - 전처리(외부로부터 진행) - 개입여부 확인 - 개입했다면 데이터 추가하고 개입한대로 action 수행\n",
    "        #                                   - 아니라면 도출된 policy 결과로 action 수행\n",
    "        \n",
    "        command = self.recv_data_fromhuman() # callback 방식 or polling 방식으로 사용자 커맨드 대기\n",
    "        \n",
    "        if(command): # 커맨드 있었을 때\n",
    "            # 로컬에 파일을 열어서 데이터를 추가하게 작성\n",
    "            self.database.append(self.get_dataset(processed, command)) # data 추가\n",
    "            action = command\n",
    "        else:\n",
    "            action = sess.run(model.policy) # 모델로부터 policy 를 도출한다.\n",
    "        \n",
    "        self.send_data(action) # 터틀봇에 action 을 송신한다.\n",
    "        \n",
    "        return image"
   ]
  },
  {
   "cell_type": "code",
   "execution_count": 10,
   "metadata": {},
   "outputs": [
    {
     "ename": "NameError",
     "evalue": "name 'CVHelper' is not defined",
     "output_type": "error",
     "traceback": [
      "\u001b[1;31m---------------------------------------------------------------------------\u001b[0m",
      "\u001b[1;31mNameError\u001b[0m                                 Traceback (most recent call last)",
      "\u001b[1;32m<ipython-input-10-1691ac757f69>\u001b[0m in \u001b[0;36m<module>\u001b[1;34m\u001b[0m\n\u001b[0;32m      1\u001b[0m \u001b[0menv\u001b[0m \u001b[1;33m=\u001b[0m \u001b[0mEnv\u001b[0m\u001b[1;33m(\u001b[0m\u001b[1;32mNone\u001b[0m\u001b[1;33m,\u001b[0m\u001b[1;32mNone\u001b[0m\u001b[1;33m,\u001b[0m\u001b[1;32mNone\u001b[0m\u001b[1;33m)\u001b[0m\u001b[1;33m\u001b[0m\u001b[1;33m\u001b[0m\u001b[0m\n\u001b[1;32m----> 2\u001b[1;33m \u001b[0mpreprocessor\u001b[0m \u001b[1;33m=\u001b[0m \u001b[0mCVHelper\u001b[0m\u001b[1;33m(\u001b[0m\u001b[1;33m)\u001b[0m\u001b[1;33m\u001b[0m\u001b[1;33m\u001b[0m\u001b[0m\n\u001b[0m\u001b[0;32m      3\u001b[0m \u001b[0menv\u001b[0m\u001b[1;33m.\u001b[0m\u001b[0mreset\u001b[0m\u001b[1;33m(\u001b[0m\u001b[1;33m)\u001b[0m\u001b[1;33m\u001b[0m\u001b[1;33m\u001b[0m\u001b[0m\n\u001b[0;32m      4\u001b[0m \u001b[1;32mwhile\u001b[0m\u001b[1;33m(\u001b[0m\u001b[1;32mFalse\u001b[0m\u001b[1;33m)\u001b[0m\u001b[1;33m:\u001b[0m\u001b[1;33m\u001b[0m\u001b[1;33m\u001b[0m\u001b[0m\n\u001b[0;32m      5\u001b[0m     \u001b[0mobservation\u001b[0m \u001b[1;33m=\u001b[0m \u001b[0magent\u001b[0m\u001b[1;33m.\u001b[0m\u001b[0mstep\u001b[0m\u001b[1;33m(\u001b[0m\u001b[1;33m)\u001b[0m\u001b[1;33m\u001b[0m\u001b[1;33m\u001b[0m\u001b[0m\n",
      "\u001b[1;31mNameError\u001b[0m: name 'CVHelper' is not defined"
     ]
    }
   ],
   "source": [
    "env = Env(None,None,None)\n",
    "preprocessor = CVHelper()\n",
    "observation = env.reset()\n",
    "data_base = None # 파일을 열어서 저장 및 불러오기. 텍스트 파일다루기. or binary 파일로\n",
    "\n",
    "while(False):\n",
    "    processed_image = preprocessor(observation)\n",
    "    key = env.recv_command_fromhuman()\n",
    "    \n",
    "    if(key):\n",
    "        action = None # command --> action\n",
    "        data_base.append(processed_image, action) # input:label 데이터 추가\n",
    "    else:\n",
    "        action = None # CNN --> policy --> action\n",
    "    \n",
    "    observation = env.step(action)\n",
    "    "
   ]
  },
  {
   "cell_type": "markdown",
   "metadata": {},
   "source": [
    "## 터미널에서 외부 입력 받기\n",
    "1. 윈도우\n",
    "2. 리눅스"
   ]
  },
  {
   "cell_type": "code",
   "execution_count": 46,
   "metadata": {
    "jupyter": {
     "source_hidden": true
    }
   },
   "outputs": [],
   "source": [
    "# os 정보 받아서 \n",
    "import platform\n",
    "os_cur = platform.system()\n",
    "\n",
    "if(os_cur == 'Windows'):\n",
    "    # Windows용 코드\n",
    "    import msvcrt\n",
    "    def getkey():\n",
    "        \"\"\"단일키 누르는 것을 받아옴\"\"\"\n",
    "        return msvcrt.getch()\n",
    "\n",
    "else:\n",
    "    # Linux & Mac 용 코드\n",
    "    import sys\n",
    "    import tty\n",
    "    import termios\n",
    "\n",
    "    def getkey():\n",
    "        \"\"\"단일키 누르는 것을 받아옴\"\"\"\n",
    "        fd = sys.stdin.fileno()\n",
    "        original_attributes = termios.tcgetattr(fd)\n",
    "        try:\n",
    "            tty.setraw(sys.stdin.fileno())\n",
    "            ch = sys.stdin.read(1)\n",
    "        finally:\n",
    "            termios.tcsetattr(fd, termios.TCSADRAIN, original_attributes)\n",
    "        return ch"
   ]
  }
 ],
 "metadata": {
  "kernelspec": {
   "display_name": "Python 3",
   "language": "python",
   "name": "python3"
  },
  "language_info": {
   "codemirror_mode": {
    "name": "ipython",
    "version": 3
   },
   "file_extension": ".py",
   "mimetype": "text/x-python",
   "name": "python",
   "nbconvert_exporter": "python",
   "pygments_lexer": "ipython3",
   "version": "3.6.8"
  }
 },
 "nbformat": 4,
 "nbformat_minor": 4
}

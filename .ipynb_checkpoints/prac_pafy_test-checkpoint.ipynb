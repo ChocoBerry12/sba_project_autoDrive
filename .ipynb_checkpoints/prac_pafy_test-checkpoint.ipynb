{
 "cells": [
  {
   "cell_type": "code",
   "execution_count": null,
   "metadata": {},
   "outputs": [],
   "source": [
    "import cv2\n",
    "import pafy\n",
    "import numpy as np\n",
    "\n",
    "url = 'https://www.youtube.com/watch?v=ZC4VUt1I5FI' #따옴표 안 유튜브 링크에서 필요한 영상을 불러옴. 원하는 대로 수정 가능. 해당 url은 아이유가 나오는 참이슬 영상.\n",
    "url_road = 'https://www.youtube.com/watch?v=USUJa3N3TOM#t=1m15s'\n",
    "video = pafy.new(url)\n",
    "\n",
    "print('title = ', video.title) #영상의 제목을 표시.\n",
    "best = video.getbest(preftype = 'webm')\n",
    "print('best.resolution', best.resolution) #영상의 크기를 표시.\n",
    "\n",
    "cap = cv2.VideoCapture(best.url)\n",
    "while(True):\n",
    "    ret, frame = cap.read()\n",
    "    if(not ret):\n",
    "        break\n",
    "    \n",
    "    # 영상정의\n",
    "    sliced = frame[:, :320, :]\n",
    "    gray = cv2.cvtColor(sliced, cv2.COLOR_BGR2GRAY)\n",
    "    ret, binary = cv2.threshold(gray, 127, 255, cv2.THRESH_BINARY)\n",
    "    blur = cv2.GaussianBlur(binary, (15, 15), 0)\n",
    "    dilation = cv2.dilate(blur, cv2.getStructuringElement(cv2.MORPH_RECT,(10, 10)), iterations = 1)\n",
    "    canny = cv2.Canny(dilation, 30, 70)\n",
    "    \n",
    "    cv2.imshow('frame', sliced)\n",
    "    #cv2.imshow('gray', gray)\n",
    "    #cv2.imshow('bin', binary)\n",
    "    #cv2.imshow('blur', blur)\n",
    "    cv2.imshow('dilate', dilation)\n",
    "    cv2.imshow('canny', canny)\n",
    "    \n",
    "    key = cv2.waitKey(25)\n",
    "    if key == 27:   #Esc누르면 종료. x키 열심히 눌러도 소용없음. Esc를 눌러야함.\n",
    "            break\n",
    "cv2.destroyAllWindows()"
   ]
  },
  {
   "cell_type": "code",
   "execution_count": 23,
   "metadata": {},
   "outputs": [
    {
     "name": "stdout",
     "output_type": "stream",
     "text": [
      "title =  4K (Ultra HD) California Scenic Bike Ride with Music - Coleman Valley Road, California - 5 Hours\n",
      "best.resolution 640x360\n"
     ]
    }
   ],
   "source": [
    "import cv2\n",
    "import pafy\n",
    "import numpy as np\n",
    "\n",
    "url_road = 'https://youtu.be/USUJa3N3TOM?t=2371'\n",
    "video = pafy.new(url_road)\n",
    "print('title = ', video.title) #영상의 제목을 표시.\n",
    "best = video.getbest(preftype = 'webm')\n",
    "print('best.resolution', best.resolution) #영상의 크기를 표시.\n",
    "\n",
    "cap = cv2.VideoCapture(best.url)\n",
    "while(True):\n",
    "    ret, frame = cap.read()\n",
    "    if(not ret):\n",
    "        break\n",
    "    \n",
    "    # 영상정의\n",
    "    sliced = frame[:, :, :]\n",
    "    gray = cv2.cvtColor(sliced, cv2.COLOR_BGR2GRAY)\n",
    "    ret, binary = cv2.threshold(gray, 127, 255, cv2.THRESH_BINARY)\n",
    "    blur = cv2.GaussianBlur(binary, (15, 15), 0)\n",
    "    dilation = cv2.dilate(blur, cv2.getStructuringElement(cv2.MORPH_RECT,(10, 10)), iterations = 1)\n",
    "    canny = cv2.Canny(dilation, 30, 70)\n",
    "    \n",
    "    cv2.imshow('frame', sliced)\n",
    "    #cv2.imshow('gray', gray)\n",
    "    #cv2.imshow('bin', binary)\n",
    "    #cv2.imshow('blur', blur)\n",
    "    cv2.imshow('dilate', dilation)\n",
    "    cv2.imshow('canny', canny)\n",
    "    \n",
    "    key = cv2.waitKey(25)\n",
    "    if key == 27:   #Esc누르면 종료. x키 열심히 눌러도 소용없음. Esc를 눌러야함.\n",
    "            break\n",
    "cv2.destroyAllWindows()"
   ]
  },
  {
   "cell_type": "code",
   "execution_count": null,
   "metadata": {},
   "outputs": [
    {
     "name": "stdout",
     "output_type": "stream",
     "text": [
      "Size is 5305940873\n",
      "  2,691,579,904 Bytes [50.73%] received. Rate: [8868 KB/s].  ETA: [288 secs]    \r"
     ]
    }
   ],
   "source": [
    "import pafy\n",
    "url = 'https://youtu.be/USUJa3N3TOM?t=2371'\n",
    "v = pafy.new(url)\n",
    "s = v.getbest()\n",
    "print(\"Size is %s\" % s.get_filesize())\n",
    "filename = s.download()  # starts download"
   ]
  }
 ],
 "metadata": {
  "kernelspec": {
   "display_name": "Python 3",
   "language": "python",
   "name": "python3"
  },
  "language_info": {
   "codemirror_mode": {
    "name": "ipython",
    "version": 3
   },
   "file_extension": ".py",
   "mimetype": "text/x-python",
   "name": "python",
   "nbconvert_exporter": "python",
   "pygments_lexer": "ipython3",
   "version": "3.6.8"
  }
 },
 "nbformat": 4,
 "nbformat_minor": 4
}

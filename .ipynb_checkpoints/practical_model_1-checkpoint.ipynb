{
 "cells": [
  {
   "cell_type": "markdown",
   "metadata": {},
   "source": [
    "# Imitation Learning 모델 1\n",
    "---\n",
    "## Description\n",
    "* vanilla DAgger 모델\n",
    "\n",
    "## todo\n",
    "* 모듈 2, 모듈 3 구현\n",
    "\n",
    "* pickle 등으로 로컬에 데이터 저장\n",
    "\n",
    "## 링크\n",
    "* [PEP8 코딩준수](https://kongdols-room.tistory.com/18)\n",
    "* [openCV 가이드](https://opencv-python.readthedocs.io/en/latest/doc/02.videoStart/videoStart.html)\n",
    "* [프로그레스 바 구현](https://wikidocs.net/13977)"
   ]
  },
  {
   "cell_type": "markdown",
   "metadata": {},
   "source": [
    "## 1. 학습데이터 생성 모듈"
   ]
  },
  {
   "cell_type": "code",
   "execution_count": 36,
   "metadata": {},
   "outputs": [],
   "source": [
    "import cv2\n",
    "import numpy as np\n",
    "import copy"
   ]
  },
  {
   "cell_type": "code",
   "execution_count": 2,
   "metadata": {},
   "outputs": [],
   "source": [
    "class DataCollector:\n",
    "    def __init__(self):\n",
    "        pass\n",
    "    "
   ]
  },
  {
   "cell_type": "code",
   "execution_count": 166,
   "metadata": {},
   "outputs": [],
   "source": [
    "class DataProducer:\n",
    "    def __init__(self, width=320, height=240):\n",
    "        self.observation = [] # 전처리된 영상 데이터 np 원본\n",
    "        self.label = [] # 라벨링 데이터, observation 과 같은 크기\n",
    "        self.width = width\n",
    "        self.height = height\n",
    "        print('> data producer 생성. ')\n",
    "        print('> 가로 : {}, 세로 : {}'.format(width, height))\n",
    "        print('-'*50)\n",
    "        \n",
    "    def __repr__(self):\n",
    "        return '가로 : {}, 세로 : {}'.format(self.width, self.height)\n",
    "    \n",
    "    def produce_observation(self, file=None):\n",
    "        # observation 을 생성하는 메서드\n",
    "        \n",
    "        if(file == None):\n",
    "            # 재생할 원본영상이 없으면 실시간으로 카메라 영상 재생\n",
    "            # 여기서는 노트북의 로컬카메라\n",
    "            cap = cv2.VideoCapture(0)\n",
    "            cap.set(3, self.width)\n",
    "            cap.set(4, self.height)\n",
    "        else:\n",
    "            # 파일로부터 원본영상을 받아 재생\n",
    "            # 처음부터 전처리한 영상을 안만드는 이유는\n",
    "            # 하나의 원본으로부터 다양한 전처리 작업을 한 결과을 얻기 위함\n",
    "            cap = cv2.VideoCapture(file)\n",
    "        \n",
    "        while(cap.isOpened()):\n",
    "            ret, frame = cap.read()\n",
    "            if(ret):\n",
    "                gray = cv2.cvtColor(frame, cv2.COLOR_BGR2GRAY)\n",
    "                ret_bin, binary = cv2.threshold(gray, 127, 255, cv2.THRESH_BINARY)\n",
    "                #cv2.imshow('frame', gray)\n",
    "                cv2.imshow('binary', binary)\n",
    "                self.observation.append(binary)\n",
    "                \n",
    "                if cv2.waitKey(1) & 0xFF == ord('q'):\n",
    "                    break\n",
    "        cap.release()\n",
    "        cv2.destroyAllWindows()\n",
    "        print('> 원본 프레임 수 : {}'.format(len(self.observation)))\n",
    "        print('-'*50)\n",
    "    \n",
    "    def produce_label(self, video, delay=10):\n",
    "        # 외부에서 만든 영상파일을 받아 수동으로 라벨링을 하는 메서드\n",
    "        # 수동으로 라벨링하는 과정을 observation 구하는 것과 분리함.\n",
    "        # 다양한 라벨링을 테스트하기 위함\n",
    "        self.label = []\n",
    "        command = [0,1,0]\n",
    "        cap = cv2.VideoCapture(video)        \n",
    "        while(cap.isOpened()):\n",
    "            ret, frame = cap.read()\n",
    "            if(ret):\n",
    "                key = cv2.waitKey(delay) & 0xFF\n",
    "                if(key == ord('q')):\n",
    "                    break\n",
    "                elif(key == ord('a')):\n",
    "                    command = [1,0,0]\n",
    "                elif(key == ord('d')):\n",
    "                    command = [0,0,1]\n",
    "                elif(key == ord('w')):\n",
    "                    command = [0,1,0]\n",
    "                \n",
    "                self.label.append(command)\n",
    "                cv2.putText(frame, 'command : {}'.format(command), (10, 30), cv2.FONT_HERSHEY_COMPLEX, .7, (0,0,0), 2)\n",
    "                cv2.imshow('debug', frame)\n",
    "            else:\n",
    "                break\n",
    "        cap.release()\n",
    "        cv2.destroyAllWindows()\n",
    "        print('> 라벨링 완료 프레임 수 : {}'.format(len(self.label)))\n",
    "        print('-'*50)\n",
    "    \n",
    "    def get_observation(self):\n",
    "        # 외부에서 영상을 만들기위해 원본을 제공\n",
    "        video_data = copy.deepcopy(self.observation)\n",
    "        print('> 전처리 영상 복사완료 - 프레임 수: {}'.format(len(self.observation)))\n",
    "        print('-'*50)\n",
    "        return video_data\n",
    "    \n",
    "    def get_label(self):\n",
    "        # 라벨 데이터를 제공하는 메서드\n",
    "        label_data = copy.deepcopy(self.label)\n",
    "        print('> 라벨 데이터 복사완료 - 라벨 수: {}'.format(len(self.label)))\n",
    "        return label_data\n",
    "    \n",
    "    def get_database(self):\n",
    "        # observation - label 데이터 쌍을 data 학습데이터로 생성하는 메서드\n",
    "        print('> 영상 프레임 수 : {}, 라벨 프레임 수 : {}, 부족한 라벨 수: {}'.format(len(self.observation), len(self.label), len(self.observation) - len(self.label)))\n",
    "        print('> {} 프레임 학습 데이터 생성완료.'.format(len(self.label)))\n",
    "        print('-'*50)\n",
    "        return zip(self.observation[:len(self.label)], self.label)"
   ]
  },
  {
   "cell_type": "code",
   "execution_count": 167,
   "metadata": {},
   "outputs": [
    {
     "name": "stdout",
     "output_type": "stream",
     "text": [
      "> data producer 생성. \n",
      "> 가로 : 320, 세로 : 240\n",
      "--------------------------------------------------\n"
     ]
    }
   ],
   "source": [
    "dp = DataProducer() # 학습데이터 생성기 객체 생성"
   ]
  },
  {
   "cell_type": "code",
   "execution_count": 168,
   "metadata": {},
   "outputs": [
    {
     "name": "stdout",
     "output_type": "stream",
     "text": [
      "> 원본 프레임 수 : 38\n",
      "--------------------------------------------------\n"
     ]
    }
   ],
   "source": [
    "dp.produce_observation() # raw 영상으로부터 전처리영상 생성"
   ]
  },
  {
   "cell_type": "code",
   "execution_count": 169,
   "metadata": {},
   "outputs": [],
   "source": [
    "fourcc = cv2.VideoWriter_fourcc(*'MP42')\n",
    "fps = 25.0\n",
    "out = cv2.VideoWriter('output.avi', fourcc, fps, (320,240), 0) # 세밀한 컨트롤을 위해 프레임 늘리기 고려"
   ]
  },
  {
   "cell_type": "code",
   "execution_count": 170,
   "metadata": {},
   "outputs": [
    {
     "name": "stdout",
     "output_type": "stream",
     "text": [
      "> 전처리 영상 복사완료 - 프레임 수: 38\n",
      "--------------------------------------------------\n"
     ]
    }
   ],
   "source": [
    "# 전처리된 영상원본을 동영상파일로 저장\n",
    "copied_observation = dp.get_observation()\n",
    "for f in range(len(copied_observation)):\n",
    "    frame = copied_observation[f]\n",
    "    out.write(frame)\n",
    "out.release()"
   ]
  },
  {
   "cell_type": "code",
   "execution_count": 175,
   "metadata": {},
   "outputs": [
    {
     "name": "stdout",
     "output_type": "stream",
     "text": [
      "> 라벨링 완료 프레임 수 : 24\n",
      "--------------------------------------------------\n"
     ]
    }
   ],
   "source": [
    "dp.produce_label('output.avi', delay=100) # 만들어진 동영상파일을 가지고 수동으로 라벨링하여 라벨을 프레임별로 따로 저장"
   ]
  },
  {
   "cell_type": "code",
   "execution_count": 176,
   "metadata": {},
   "outputs": [
    {
     "name": "stdout",
     "output_type": "stream",
     "text": [
      "> 영상 프레임 수 : 38, 라벨 프레임 수 : 24, 부족한 라벨 수: 14\n",
      "> 24 프레임 학습 데이터 생성완료.\n",
      "--------------------------------------------------\n",
      "24\n"
     ]
    }
   ],
   "source": [
    "data = list(dp.get_database()) # observation - label 모음 학습데이터를 획득한다.\n",
    "print(len(data))\n",
    "for d in data:\n",
    "    ob, lb = d\n",
    "    #print(ob, lb)"
   ]
  },
  {
   "cell_type": "markdown",
   "metadata": {},
   "source": [
    "## 2. 신경망 학습 모듈"
   ]
  },
  {
   "cell_type": "markdown",
   "metadata": {},
   "source": [
    "## 3. 실시간 Data 보강 모듈"
   ]
  }
 ],
 "metadata": {
  "kernelspec": {
   "display_name": "Python 3",
   "language": "python",
   "name": "python3"
  },
  "language_info": {
   "codemirror_mode": {
    "name": "ipython",
    "version": 3
   },
   "file_extension": ".py",
   "mimetype": "text/x-python",
   "name": "python",
   "nbconvert_exporter": "python",
   "pygments_lexer": "ipython3",
   "version": "3.6.8"
  }
 },
 "nbformat": 4,
 "nbformat_minor": 4
}
